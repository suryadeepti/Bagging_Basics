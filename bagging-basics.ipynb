{
 "cells": [
  {
   "cell_type": "markdown",
   "id": "3ec1fcef",
   "metadata": {
    "papermill": {
     "duration": 0.005055,
     "end_time": "2022-09-10T14:59:17.270350",
     "exception": false,
     "start_time": "2022-09-10T14:59:17.265295",
     "status": "completed"
    },
    "tags": []
   },
   "source": [
    "**Bagging is an ensemble machine learning algorithm that combines the predictions from many decision trees.**\n"
   ]
  },
  {
   "cell_type": "code",
   "execution_count": 1,
   "id": "06f43282",
   "metadata": {
    "_cell_guid": "b1076dfc-b9ad-4769-8c92-a6c4dae69d19",
    "_uuid": "8f2839f25d086af736a60e9eeb907d3b93b6e0e5",
    "execution": {
     "iopub.execute_input": "2022-09-10T14:59:17.279509Z",
     "iopub.status.busy": "2022-09-10T14:59:17.279026Z",
     "iopub.status.idle": "2022-09-10T14:59:17.301532Z",
     "shell.execute_reply": "2022-09-10T14:59:17.300069Z"
    },
    "papermill": {
     "duration": 0.03033,
     "end_time": "2022-09-10T14:59:17.304408",
     "exception": false,
     "start_time": "2022-09-10T14:59:17.274078",
     "status": "completed"
    },
    "tags": []
   },
   "outputs": [
    {
     "name": "stdout",
     "output_type": "stream",
     "text": [
      "/kaggle/input/wine-data/Wine_data.csv\n"
     ]
    }
   ],
   "source": [
    "# Basic Libraries to import in all problems/ code.\n",
    "import numpy as np # linear algebra\n",
    "import pandas as pd # data processing, CSV file I/O (e.g. pd.read_csv)\n",
    "import os\n",
    "for dirname, _, filenames in os.walk('/kaggle/input'):\n",
    "    for filename in filenames:\n",
    "        print(os.path.join(dirname, filename))"
   ]
  },
  {
   "cell_type": "code",
   "execution_count": 2,
   "id": "6ddf7005",
   "metadata": {
    "execution": {
     "iopub.execute_input": "2022-09-10T14:59:17.313736Z",
     "iopub.status.busy": "2022-09-10T14:59:17.313002Z",
     "iopub.status.idle": "2022-09-10T14:59:18.792296Z",
     "shell.execute_reply": "2022-09-10T14:59:18.791046Z"
    },
    "papermill": {
     "duration": 1.486906,
     "end_time": "2022-09-10T14:59:18.794999",
     "exception": false,
     "start_time": "2022-09-10T14:59:17.308093",
     "status": "completed"
    },
    "tags": []
   },
   "outputs": [],
   "source": [
    "#imported libraries \n",
    "from sklearn import model_selection\n",
    "from sklearn.ensemble import BaggingClassifier\n",
    "from sklearn.tree import DecisionTreeClassifier"
   ]
  },
  {
   "cell_type": "code",
   "execution_count": 3,
   "id": "3ff1142a",
   "metadata": {
    "execution": {
     "iopub.execute_input": "2022-09-10T14:59:18.803962Z",
     "iopub.status.busy": "2022-09-10T14:59:18.803539Z",
     "iopub.status.idle": "2022-09-10T14:59:18.852309Z",
     "shell.execute_reply": "2022-09-10T14:59:18.851214Z"
    },
    "papermill": {
     "duration": 0.05686,
     "end_time": "2022-09-10T14:59:18.855509",
     "exception": false,
     "start_time": "2022-09-10T14:59:18.798649",
     "status": "completed"
    },
    "tags": []
   },
   "outputs": [
    {
     "data": {
      "text/html": [
       "<div>\n",
       "<style scoped>\n",
       "    .dataframe tbody tr th:only-of-type {\n",
       "        vertical-align: middle;\n",
       "    }\n",
       "\n",
       "    .dataframe tbody tr th {\n",
       "        vertical-align: top;\n",
       "    }\n",
       "\n",
       "    .dataframe thead th {\n",
       "        text-align: right;\n",
       "    }\n",
       "</style>\n",
       "<table border=\"1\" class=\"dataframe\">\n",
       "  <thead>\n",
       "    <tr style=\"text-align: right;\">\n",
       "      <th></th>\n",
       "      <th>fixed_acidity</th>\n",
       "      <th>volatile_acidity</th>\n",
       "      <th>citric_acid</th>\n",
       "      <th>residual_sugar</th>\n",
       "      <th>chlorides</th>\n",
       "      <th>free_sulfur_dioxide</th>\n",
       "      <th>total_sulfur_dioxide</th>\n",
       "      <th>density</th>\n",
       "      <th>pH</th>\n",
       "      <th>sulphates</th>\n",
       "      <th>alcohol</th>\n",
       "      <th>quality</th>\n",
       "    </tr>\n",
       "  </thead>\n",
       "  <tbody>\n",
       "    <tr>\n",
       "      <th>0</th>\n",
       "      <td>7.4</td>\n",
       "      <td>0.700</td>\n",
       "      <td>0.00</td>\n",
       "      <td>1.9</td>\n",
       "      <td>0.076</td>\n",
       "      <td>11.0</td>\n",
       "      <td>34.0</td>\n",
       "      <td>0.99780</td>\n",
       "      <td>3.51</td>\n",
       "      <td>0.56</td>\n",
       "      <td>9.4</td>\n",
       "      <td>5</td>\n",
       "    </tr>\n",
       "    <tr>\n",
       "      <th>1</th>\n",
       "      <td>7.8</td>\n",
       "      <td>0.880</td>\n",
       "      <td>0.00</td>\n",
       "      <td>2.6</td>\n",
       "      <td>0.098</td>\n",
       "      <td>25.0</td>\n",
       "      <td>67.0</td>\n",
       "      <td>0.99680</td>\n",
       "      <td>3.20</td>\n",
       "      <td>0.68</td>\n",
       "      <td>9.8</td>\n",
       "      <td>5</td>\n",
       "    </tr>\n",
       "    <tr>\n",
       "      <th>2</th>\n",
       "      <td>7.8</td>\n",
       "      <td>0.760</td>\n",
       "      <td>0.04</td>\n",
       "      <td>2.3</td>\n",
       "      <td>0.092</td>\n",
       "      <td>15.0</td>\n",
       "      <td>54.0</td>\n",
       "      <td>0.99700</td>\n",
       "      <td>3.26</td>\n",
       "      <td>0.65</td>\n",
       "      <td>9.8</td>\n",
       "      <td>5</td>\n",
       "    </tr>\n",
       "    <tr>\n",
       "      <th>3</th>\n",
       "      <td>11.2</td>\n",
       "      <td>0.280</td>\n",
       "      <td>0.56</td>\n",
       "      <td>1.9</td>\n",
       "      <td>0.075</td>\n",
       "      <td>17.0</td>\n",
       "      <td>60.0</td>\n",
       "      <td>0.99800</td>\n",
       "      <td>3.16</td>\n",
       "      <td>0.58</td>\n",
       "      <td>9.8</td>\n",
       "      <td>6</td>\n",
       "    </tr>\n",
       "    <tr>\n",
       "      <th>4</th>\n",
       "      <td>7.4</td>\n",
       "      <td>0.700</td>\n",
       "      <td>0.00</td>\n",
       "      <td>1.9</td>\n",
       "      <td>0.076</td>\n",
       "      <td>11.0</td>\n",
       "      <td>34.0</td>\n",
       "      <td>0.99780</td>\n",
       "      <td>3.51</td>\n",
       "      <td>0.56</td>\n",
       "      <td>9.4</td>\n",
       "      <td>5</td>\n",
       "    </tr>\n",
       "    <tr>\n",
       "      <th>...</th>\n",
       "      <td>...</td>\n",
       "      <td>...</td>\n",
       "      <td>...</td>\n",
       "      <td>...</td>\n",
       "      <td>...</td>\n",
       "      <td>...</td>\n",
       "      <td>...</td>\n",
       "      <td>...</td>\n",
       "      <td>...</td>\n",
       "      <td>...</td>\n",
       "      <td>...</td>\n",
       "      <td>...</td>\n",
       "    </tr>\n",
       "    <tr>\n",
       "      <th>1594</th>\n",
       "      <td>6.2</td>\n",
       "      <td>0.600</td>\n",
       "      <td>0.08</td>\n",
       "      <td>2.0</td>\n",
       "      <td>0.090</td>\n",
       "      <td>32.0</td>\n",
       "      <td>44.0</td>\n",
       "      <td>0.99490</td>\n",
       "      <td>3.45</td>\n",
       "      <td>0.58</td>\n",
       "      <td>10.5</td>\n",
       "      <td>5</td>\n",
       "    </tr>\n",
       "    <tr>\n",
       "      <th>1595</th>\n",
       "      <td>5.9</td>\n",
       "      <td>0.550</td>\n",
       "      <td>0.10</td>\n",
       "      <td>2.2</td>\n",
       "      <td>0.062</td>\n",
       "      <td>39.0</td>\n",
       "      <td>51.0</td>\n",
       "      <td>0.99512</td>\n",
       "      <td>3.52</td>\n",
       "      <td>0.76</td>\n",
       "      <td>11.2</td>\n",
       "      <td>6</td>\n",
       "    </tr>\n",
       "    <tr>\n",
       "      <th>1596</th>\n",
       "      <td>6.3</td>\n",
       "      <td>0.510</td>\n",
       "      <td>0.13</td>\n",
       "      <td>2.3</td>\n",
       "      <td>0.076</td>\n",
       "      <td>29.0</td>\n",
       "      <td>40.0</td>\n",
       "      <td>0.99574</td>\n",
       "      <td>3.42</td>\n",
       "      <td>0.75</td>\n",
       "      <td>11.0</td>\n",
       "      <td>6</td>\n",
       "    </tr>\n",
       "    <tr>\n",
       "      <th>1597</th>\n",
       "      <td>5.9</td>\n",
       "      <td>0.645</td>\n",
       "      <td>0.12</td>\n",
       "      <td>2.0</td>\n",
       "      <td>0.075</td>\n",
       "      <td>32.0</td>\n",
       "      <td>44.0</td>\n",
       "      <td>0.99547</td>\n",
       "      <td>3.57</td>\n",
       "      <td>0.71</td>\n",
       "      <td>10.2</td>\n",
       "      <td>5</td>\n",
       "    </tr>\n",
       "    <tr>\n",
       "      <th>1598</th>\n",
       "      <td>6.0</td>\n",
       "      <td>0.310</td>\n",
       "      <td>0.47</td>\n",
       "      <td>3.6</td>\n",
       "      <td>0.067</td>\n",
       "      <td>18.0</td>\n",
       "      <td>42.0</td>\n",
       "      <td>0.99549</td>\n",
       "      <td>3.39</td>\n",
       "      <td>0.66</td>\n",
       "      <td>11.0</td>\n",
       "      <td>6</td>\n",
       "    </tr>\n",
       "  </tbody>\n",
       "</table>\n",
       "<p>1599 rows × 12 columns</p>\n",
       "</div>"
      ],
      "text/plain": [
       "      fixed_acidity  volatile_acidity  citric_acid  residual_sugar  chlorides  \\\n",
       "0               7.4             0.700         0.00             1.9      0.076   \n",
       "1               7.8             0.880         0.00             2.6      0.098   \n",
       "2               7.8             0.760         0.04             2.3      0.092   \n",
       "3              11.2             0.280         0.56             1.9      0.075   \n",
       "4               7.4             0.700         0.00             1.9      0.076   \n",
       "...             ...               ...          ...             ...        ...   \n",
       "1594            6.2             0.600         0.08             2.0      0.090   \n",
       "1595            5.9             0.550         0.10             2.2      0.062   \n",
       "1596            6.3             0.510         0.13             2.3      0.076   \n",
       "1597            5.9             0.645         0.12             2.0      0.075   \n",
       "1598            6.0             0.310         0.47             3.6      0.067   \n",
       "\n",
       "      free_sulfur_dioxide  total_sulfur_dioxide  density    pH  sulphates  \\\n",
       "0                    11.0                  34.0  0.99780  3.51       0.56   \n",
       "1                    25.0                  67.0  0.99680  3.20       0.68   \n",
       "2                    15.0                  54.0  0.99700  3.26       0.65   \n",
       "3                    17.0                  60.0  0.99800  3.16       0.58   \n",
       "4                    11.0                  34.0  0.99780  3.51       0.56   \n",
       "...                   ...                   ...      ...   ...        ...   \n",
       "1594                 32.0                  44.0  0.99490  3.45       0.58   \n",
       "1595                 39.0                  51.0  0.99512  3.52       0.76   \n",
       "1596                 29.0                  40.0  0.99574  3.42       0.75   \n",
       "1597                 32.0                  44.0  0.99547  3.57       0.71   \n",
       "1598                 18.0                  42.0  0.99549  3.39       0.66   \n",
       "\n",
       "      alcohol  quality  \n",
       "0         9.4        5  \n",
       "1         9.8        5  \n",
       "2         9.8        5  \n",
       "3         9.8        6  \n",
       "4         9.4        5  \n",
       "...       ...      ...  \n",
       "1594     10.5        5  \n",
       "1595     11.2        6  \n",
       "1596     11.0        6  \n",
       "1597     10.2        5  \n",
       "1598     11.0        6  \n",
       "\n",
       "[1599 rows x 12 columns]"
      ]
     },
     "execution_count": 3,
     "metadata": {},
     "output_type": "execute_result"
    }
   ],
   "source": [
    "data=pd.read_csv('/kaggle/input/wine-data/Wine_data.csv')\n",
    "data"
   ]
  },
  {
   "cell_type": "code",
   "execution_count": 4,
   "id": "51b0b94d",
   "metadata": {
    "execution": {
     "iopub.execute_input": "2022-09-10T14:59:18.865650Z",
     "iopub.status.busy": "2022-09-10T14:59:18.865026Z",
     "iopub.status.idle": "2022-09-10T14:59:18.878970Z",
     "shell.execute_reply": "2022-09-10T14:59:18.877838Z"
    },
    "papermill": {
     "duration": 0.022125,
     "end_time": "2022-09-10T14:59:18.881588",
     "exception": false,
     "start_time": "2022-09-10T14:59:18.859463",
     "status": "completed"
    },
    "tags": []
   },
   "outputs": [],
   "source": [
    "Y = data['quality']\n",
    "X = data.drop('quality', axis=1)"
   ]
  },
  {
   "cell_type": "code",
   "execution_count": 5,
   "id": "692f74a2",
   "metadata": {
    "execution": {
     "iopub.execute_input": "2022-09-10T14:59:18.891764Z",
     "iopub.status.busy": "2022-09-10T14:59:18.891064Z",
     "iopub.status.idle": "2022-09-10T14:59:18.896979Z",
     "shell.execute_reply": "2022-09-10T14:59:18.895706Z"
    },
    "papermill": {
     "duration": 0.013925,
     "end_time": "2022-09-10T14:59:18.899539",
     "exception": false,
     "start_time": "2022-09-10T14:59:18.885614",
     "status": "completed"
    },
    "tags": []
   },
   "outputs": [],
   "source": [
    "kfold = model_selection.KFold(n_splits = 3,random_state = 43 , shuffle=True)"
   ]
  },
  {
   "cell_type": "code",
   "execution_count": 6,
   "id": "0ad5293e",
   "metadata": {
    "execution": {
     "iopub.execute_input": "2022-09-10T14:59:18.909962Z",
     "iopub.status.busy": "2022-09-10T14:59:18.909106Z",
     "iopub.status.idle": "2022-09-10T14:59:18.914331Z",
     "shell.execute_reply": "2022-09-10T14:59:18.913358Z"
    },
    "papermill": {
     "duration": 0.013132,
     "end_time": "2022-09-10T14:59:18.916743",
     "exception": false,
     "start_time": "2022-09-10T14:59:18.903611",
     "status": "completed"
    },
    "tags": []
   },
   "outputs": [],
   "source": [
    "base_cls = DecisionTreeClassifier()    #base classifier"
   ]
  },
  {
   "cell_type": "code",
   "execution_count": 7,
   "id": "23c4e1b7",
   "metadata": {
    "execution": {
     "iopub.execute_input": "2022-09-10T14:59:18.926972Z",
     "iopub.status.busy": "2022-09-10T14:59:18.926522Z",
     "iopub.status.idle": "2022-09-10T14:59:18.931061Z",
     "shell.execute_reply": "2022-09-10T14:59:18.929890Z"
    },
    "papermill": {
     "duration": 0.012704,
     "end_time": "2022-09-10T14:59:18.933417",
     "exception": false,
     "start_time": "2022-09-10T14:59:18.920713",
     "status": "completed"
    },
    "tags": []
   },
   "outputs": [],
   "source": [
    "num_trees =800 #no. of decission tree build"
   ]
  },
  {
   "cell_type": "code",
   "execution_count": 8,
   "id": "061bbe23",
   "metadata": {
    "execution": {
     "iopub.execute_input": "2022-09-10T14:59:18.943634Z",
     "iopub.status.busy": "2022-09-10T14:59:18.942870Z",
     "iopub.status.idle": "2022-09-10T14:59:18.948177Z",
     "shell.execute_reply": "2022-09-10T14:59:18.947195Z"
    },
    "papermill": {
     "duration": 0.013231,
     "end_time": "2022-09-10T14:59:18.950655",
     "exception": false,
     "start_time": "2022-09-10T14:59:18.937424",
     "status": "completed"
    },
    "tags": []
   },
   "outputs": [],
   "source": [
    "model = BaggingClassifier(base_estimator = base_cls,\n",
    "                          n_estimators = num_trees,\n",
    "                          random_state = 43)"
   ]
  },
  {
   "cell_type": "code",
   "execution_count": 9,
   "id": "cd8146f3",
   "metadata": {
    "execution": {
     "iopub.execute_input": "2022-09-10T14:59:18.961307Z",
     "iopub.status.busy": "2022-09-10T14:59:18.960229Z",
     "iopub.status.idle": "2022-09-10T14:59:35.886680Z",
     "shell.execute_reply": "2022-09-10T14:59:35.885527Z"
    },
    "papermill": {
     "duration": 16.934611,
     "end_time": "2022-09-10T14:59:35.889310",
     "exception": false,
     "start_time": "2022-09-10T14:59:18.954699",
     "status": "completed"
    },
    "tags": []
   },
   "outputs": [
    {
     "data": {
      "text/plain": [
       "array([0.66604128, 0.64915572, 0.68292683])"
      ]
     },
     "execution_count": 9,
     "metadata": {},
     "output_type": "execute_result"
    }
   ],
   "source": [
    "output = model_selection.cross_val_score(model, X, Y, cv = kfold)\n",
    "output"
   ]
  },
  {
   "cell_type": "code",
   "execution_count": 10,
   "id": "97e67cac",
   "metadata": {
    "execution": {
     "iopub.execute_input": "2022-09-10T14:59:35.899937Z",
     "iopub.status.busy": "2022-09-10T14:59:35.898849Z",
     "iopub.status.idle": "2022-09-10T14:59:35.904961Z",
     "shell.execute_reply": "2022-09-10T14:59:35.903725Z"
    },
    "papermill": {
     "duration": 0.013794,
     "end_time": "2022-09-10T14:59:35.907304",
     "exception": false,
     "start_time": "2022-09-10T14:59:35.893510",
     "status": "completed"
    },
    "tags": []
   },
   "outputs": [
    {
     "name": "stdout",
     "output_type": "stream",
     "text": [
      "0.6660412757973734\n"
     ]
    }
   ],
   "source": [
    "print(output.mean())"
   ]
  }
 ],
 "metadata": {
  "kernelspec": {
   "display_name": "Python 3",
   "language": "python",
   "name": "python3"
  },
  "language_info": {
   "codemirror_mode": {
    "name": "ipython",
    "version": 3
   },
   "file_extension": ".py",
   "mimetype": "text/x-python",
   "name": "python",
   "nbconvert_exporter": "python",
   "pygments_lexer": "ipython3",
   "version": "3.7.12"
  },
  "papermill": {
   "default_parameters": {},
   "duration": 28.937216,
   "end_time": "2022-09-10T14:59:36.634070",
   "environment_variables": {},
   "exception": null,
   "input_path": "__notebook__.ipynb",
   "output_path": "__notebook__.ipynb",
   "parameters": {},
   "start_time": "2022-09-10T14:59:07.696854",
   "version": "2.3.4"
  }
 },
 "nbformat": 4,
 "nbformat_minor": 5
}
